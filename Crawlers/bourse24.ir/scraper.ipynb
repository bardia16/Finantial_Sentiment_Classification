{
 "cells": [
  {
   "cell_type": "code",
   "execution_count": 4,
   "metadata": {},
   "outputs": [],
   "source": [
    "from selenium import webdriver\n",
    "from selenium.webdriver.common.by import By\n",
    "import time\n",
    "import pandas as pd\n"
   ]
  },
  {
   "cell_type": "code",
   "execution_count": 5,
   "metadata": {},
   "outputs": [],
   "source": [
    "def store_into_csv(results, filename, columns):\n",
    "\n",
    "    df = pd.DataFrame(results, columns=columns)\n",
    "\n",
    "    df.to_csv(filename, index=False)\n",
    "\n",
    "def scrape(site, filename, max_page, columns):\n",
    "    results = [] \n",
    "\n",
    "    driver = webdriver.Edge()\n",
    "    for page in range(1, max_page):\n",
    "        url = f'{site}?page={page}'\n",
    "        time.sleep(1)\n",
    "        try:\n",
    "            driver.get(url)\n",
    "        except:\n",
    "            break\n",
    "\n",
    "        divs = driver.find_elements(By.CSS_SELECTOR, 'div.col-md-4.col-lg-3')\n",
    "        for div in divs:\n",
    "            text = div.find_element(By.CSS_SELECTOR, 'h2.font-weight-semibold.text-3.line-height-6.mt-3.mb-2.justify').text\n",
    "            date = div.find_element(By.CSS_SELECTOR, 'span').text\n",
    "\n",
    "        \n",
    "        \n",
    "\n",
    "            results.append((text, date))\n",
    "\n",
    "    driver.quit()\n",
    "\n",
    "    store_into_csv(results, filename, columns)"
   ]
  },
  {
   "cell_type": "code",
   "execution_count": null,
   "metadata": {},
   "outputs": [],
   "source": [
    "scrape(\n",
    "    site='https://www.bourse24.ir/news/category/%D8%B1%D9%88%DB%8C-%D8%AE%D8%B7-%D8%A7%D9%82%D8%AA%D8%B5%D8%A7%D8%AF-%D9%88-%D8%A8%D9%88%D8%B1%D8%B3',\n",
    "    filename='bourse24.csv',\n",
    "    max_page=4600,\n",
    "    columns=['Text', 'Date']\n",
    "    )"
   ]
  }
 ],
 "metadata": {
  "kernelspec": {
   "display_name": "Python 3",
   "language": "python",
   "name": "python3"
  },
  "language_info": {
   "codemirror_mode": {
    "name": "ipython",
    "version": 3
   },
   "file_extension": ".py",
   "mimetype": "text/x-python",
   "name": "python",
   "nbconvert_exporter": "python",
   "pygments_lexer": "ipython3",
   "version": "3.10.7"
  }
 },
 "nbformat": 4,
 "nbformat_minor": 2
}
