{
 "cells": [
  {
   "cell_type": "code",
   "execution_count": 16,
   "metadata": {},
   "outputs": [],
   "source": [
    "from selenium import webdriver\n",
    "from selenium.webdriver.common.by import By\n",
    "import time\n",
    "import pandas as pd\n",
    "import os"
   ]
  },
  {
   "cell_type": "code",
   "execution_count": 17,
   "metadata": {},
   "outputs": [],
   "source": [
    "CSV_PATH = 'csv_files/'"
   ]
  },
  {
   "cell_type": "code",
   "execution_count": 18,
   "metadata": {},
   "outputs": [],
   "source": [
    "def store_into_csv(results, filename, columns):\n",
    "\n",
    "    df = pd.DataFrame(results, columns=columns)\n",
    "\n",
    "    df.to_csv(filename, index=False)\n",
    "\n",
    "def scrape(site, filename, max_page, columns):\n",
    "    results = [] \n",
    "\n",
    "    driver = webdriver.Edge()\n",
    "    for page in range(1,max_page + 1):\n",
    "        url = f'{site}?NewsPage={page}'\n",
    "        driver.get(url)\n",
    "        \n",
    "        divs = driver.find_elements(By.CSS_SELECTOR, 'div.NewsLayout12RowContents')\n",
    "        for div in divs:\n",
    "            title = div.find_element(By.CSS_SELECTOR, 'a').text\n",
    "            date = div.find_element(By.CSS_SELECTOR, 'div.NewsListItemPublishDateTime').text\n",
    "\n",
    "            results.append((title, date))\n",
    "\n",
    "    driver.quit()\n",
    "\n",
    "    store_into_csv(results, CSV_PATH+filename, columns)\n",
    "\n",
    "\n"
   ]
  },
  {
   "cell_type": "code",
   "execution_count": 19,
   "metadata": {},
   "outputs": [],
   "source": [
    "scrape(\n",
    "    site='https://ime.co.ir/elanfzkarchive.html', \n",
    "    filename='imo_physical.csv', \n",
    "    max_page=100, \n",
    "    columns=['Title', 'Date']\n",
    "    )"
   ]
  },
  {
   "cell_type": "code",
   "execution_count": 20,
   "metadata": {},
   "outputs": [],
   "source": [
    "scrape(\n",
    "    site='https://ime.co.ir/newsarchive.html', \n",
    "    filename='imo_news.csv', \n",
    "    max_page=30, \n",
    "    columns=['Title', 'Date']\n",
    "    )"
   ]
  },
  {
   "cell_type": "code",
   "execution_count": 21,
   "metadata": {},
   "outputs": [],
   "source": [
    "scrape(\n",
    "    site='https://ime.co.ir/elanomumiarchive.html', \n",
    "    filename='imo_general.csv', \n",
    "    max_page=19, \n",
    "    columns=['Title', 'Date']\n",
    "    )"
   ]
  },
  {
   "cell_type": "code",
   "execution_count": 22,
   "metadata": {},
   "outputs": [],
   "source": [
    "scrape(\n",
    "    site='https://ime.co.ir/elanmaliarchive.html', \n",
    "    filename='imo_finantial.csv', \n",
    "    max_page=58, \n",
    "    columns=['Title', 'Date']\n",
    "    )"
   ]
  },
  {
   "cell_type": "code",
   "execution_count": 23,
   "metadata": {},
   "outputs": [],
   "source": [
    "scrape(\n",
    "    site='https://ime.co.ir/elanatiarchive.html', \n",
    "    filename='imo_aati.csv', \n",
    "    max_page=143, \n",
    "    columns=['Title', 'Date']\n",
    "    )"
   ]
  },
  {
   "cell_type": "code",
   "execution_count": 27,
   "metadata": {},
   "outputs": [
    {
     "name": "stdout",
     "output_type": "stream",
     "text": [
      "5 csv files merged.\n"
     ]
    }
   ],
   "source": [
    "def merge_all_csvs(merged_filename):\n",
    "    dfs = []\n",
    "\n",
    "    # Loop through all files in the directory\n",
    "    for filename in os.listdir(CSV_PATH):\n",
    "        # Check if the file is a CSV file\n",
    "        if filename.endswith('.csv'):\n",
    "            # Construct the file path\n",
    "            file_path = os.path.join(CSV_PATH, filename)\n",
    "            # Read the CSV file into a data frame\n",
    "            df = pd.read_csv(file_path)\n",
    "            # Append the data frame to the list\n",
    "            dfs.append(df)\n",
    "\n",
    "    # Concatenate all data frames in the list\n",
    "    merged_df = pd.concat(dfs, ignore_index=True)\n",
    "    merged_df = merged_df.drop_duplicates()\n",
    "    # Save the merged data frame to a new CSV file\n",
    "    merged_df.to_csv(merged_filename, index=False)\n",
    "    print(f'{len(dfs)} csv files merged.')\n",
    "\n",
    "merge_all_csvs('imo_merged.csv')"
   ]
  }
 ],
 "metadata": {
  "kernelspec": {
   "display_name": "Python 3",
   "language": "python",
   "name": "python3"
  },
  "language_info": {
   "codemirror_mode": {
    "name": "ipython",
    "version": 3
   },
   "file_extension": ".py",
   "mimetype": "text/x-python",
   "name": "python",
   "nbconvert_exporter": "python",
   "pygments_lexer": "ipython3",
   "version": "3.10.7"
  }
 },
 "nbformat": 4,
 "nbformat_minor": 2
}
