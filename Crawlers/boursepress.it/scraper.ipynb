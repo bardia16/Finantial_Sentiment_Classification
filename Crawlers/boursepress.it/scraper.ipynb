{
 "cells": [
  {
   "cell_type": "code",
   "execution_count": 1,
   "metadata": {},
   "outputs": [],
   "source": [
    "from selenium import webdriver\n",
    "from selenium.webdriver.common.by import By\n",
    "import time\n",
    "import pandas as pd"
   ]
  },
  {
   "cell_type": "code",
   "execution_count": 2,
   "metadata": {},
   "outputs": [],
   "source": [
    "def store_into_csv(results, filename, columns):\n",
    "\n",
    "    df = pd.DataFrame(results, columns=columns)\n",
    "\n",
    "    df.to_csv(filename, index=False)\n",
    "\n",
    "def scrape(site, filename, max_page, columns):\n",
    "    results = [] \n",
    "\n",
    "    driver = webdriver.Edge()\n",
    "\n",
    "    for page in range(1, max_page):\n",
    "        url = f'{site}?p{page}'\n",
    "        try:\n",
    "            driver.get(url)\n",
    "        except:\n",
    "            break\n",
    "        #time.sleep(0.5)\n",
    "\n",
    "        ul = driver.find_element(By.CSS_SELECTOR, 'ul.news-list-t-i-l')\n",
    "        lis = ul.find_elements(By.TAG_NAME, 'li')\n",
    "        \n",
    "        for li in lis:\n",
    "            try:\n",
    "                tl = li.find_element(By.CSS_SELECTOR, 'div.tl')  \n",
    "                tl_text = tl.text\n",
    "            except:\n",
    "                tl_text = None\n",
    "\n",
    "            try:  \n",
    "                a = li.find_element(By.CSS_SELECTOR, 'a.news-list-title-icon')\n",
    "                a_text = a.text\n",
    "            except:\n",
    "                a_text = None\n",
    "\n",
    "            try:\n",
    "                l = li.find_element(By.CSS_SELECTOR, 'div.l')\n",
    "                l_text = l.text\n",
    "            except: \n",
    "                l_text = None\n",
    "\n",
    "\n",
    "            results.append((tl_text, a_text, l_text))\n",
    "\n",
    "    driver.quit()\n",
    "    store_into_csv(results, filename, columns)\n"
   ]
  },
  {
   "cell_type": "code",
   "execution_count": null,
   "metadata": {},
   "outputs": [],
   "source": [
    "scrape(\n",
    "    site='https://boursepress.ir/service/exchanges',\n",
    "    filename='boursepress.csv',\n",
    "    max_page=600,\n",
    "    columns=['from', 'title', 'text']\n",
    ")"
   ]
  }
 ],
 "metadata": {
  "kernelspec": {
   "display_name": "Python 3",
   "language": "python",
   "name": "python3"
  },
  "language_info": {
   "codemirror_mode": {
    "name": "ipython",
    "version": 3
   },
   "file_extension": ".py",
   "mimetype": "text/x-python",
   "name": "python",
   "nbconvert_exporter": "python",
   "pygments_lexer": "ipython3",
   "version": "3.10.7"
  }
 },
 "nbformat": 4,
 "nbformat_minor": 2
}
