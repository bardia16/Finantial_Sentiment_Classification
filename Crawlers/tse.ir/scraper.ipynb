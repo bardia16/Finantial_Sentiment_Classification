{
 "cells": [
  {
   "cell_type": "code",
   "execution_count": 4,
   "metadata": {},
   "outputs": [],
   "source": [
    "from selenium import webdriver\n",
    "from selenium.webdriver.common.by import By\n",
    "import time\n",
    "import pandas as pd\n"
   ]
  },
  {
   "cell_type": "code",
   "execution_count": 5,
   "metadata": {},
   "outputs": [],
   "source": [
    "def store_into_csv(results, filename, columns):\n",
    "\n",
    "    df = pd.DataFrame(results, columns=columns)\n",
    "\n",
    "    df.to_csv(filename, index=False)\n",
    "\n",
    "def scrape(site, filename, max_attemps, columns):\n",
    "    results = [] \n",
    "\n",
    "    driver = webdriver.Edge()\n",
    "    url = site\n",
    "    driver.get(url)\n",
    "    time.sleep(5)\n",
    "    driver.execute_script(\"window.scrollTo(0, document.body.scrollHeight);\")\n",
    "    for page in range(1, 6000):\n",
    "\n",
    "        time.sleep(0.5)\n",
    "\n",
    "        articles = driver.find_elements(By.CSS_SELECTOR, 'article.grid.grid-cols-12.col-span-10.mr-4')\n",
    "        for article in articles:\n",
    "            spans = article.find_elements(By.CSS_SELECTOR, 'span')\n",
    "            title = spans[0].text\n",
    "            date = spans[1].text\n",
    "            text = spans[2].text\n",
    "\n",
    "            results.append((title, date, text))\n",
    "        try:\n",
    "            next_bottun = driver.find_elements(By.CSS_SELECTOR, 'button.ant-pagination-item-link')[1]\n",
    "            next_bottun.click()\n",
    "        except:\n",
    "            continue\n",
    "\n",
    "    driver.quit()\n",
    "\n",
    "    store_into_csv(results, filename, columns)\n"
   ]
  },
  {
   "cell_type": "code",
   "execution_count": null,
   "metadata": {},
   "outputs": [],
   "source": [
    "scrape(\n",
    "    site='https://tse.ir/news/allNews?cat=all', \n",
    "    filename='tse.csv', \n",
    "    max_attemps=6000, \n",
    "    columns=['Title', 'Date', 'Text']\n",
    "    )"
   ]
  }
 ],
 "metadata": {
  "kernelspec": {
   "display_name": "Python 3",
   "language": "python",
   "name": "python3"
  },
  "language_info": {
   "codemirror_mode": {
    "name": "ipython",
    "version": 3
   },
   "file_extension": ".py",
   "mimetype": "text/x-python",
   "name": "python",
   "nbconvert_exporter": "python",
   "pygments_lexer": "ipython3",
   "version": "3.10.7"
  }
 },
 "nbformat": 4,
 "nbformat_minor": 2
}
